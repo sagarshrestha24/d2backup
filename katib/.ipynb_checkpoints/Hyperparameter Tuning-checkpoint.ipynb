{
 "cells": [
  {
   "cell_type": "code",
   "execution_count": 1,
   "metadata": {},
   "outputs": [],
   "source": [
    "# To have each Python cell auto-formatted\n",
    "# See: https://black.readthedocs.io\n",
    "%load_ext lab_black"
   ]
  },
  {
   "cell_type": "markdown",
   "metadata": {},
   "source": [
    "# Hyperparameter Tuning with Katib\n",
    "\n",
    "## Introduction\n",
    "\n",
    "Hyperparameter tuning is the process of optimizing a model's hyperparameter values in order to maximize the predictive quality of the model.\n",
    "Examples of such hyperparameters are the learning rate, neural architecture depth (layers) and width (nodes), epochs, batch size, dropout rate, and activation functions.\n",
    "These are the parameters that are set prior to training; unlike the model parameters (weights and biases), these do not change during the process of training the model.\n",
    "\n",
    "[Katib](https://github.com/kubeflow/katib) automates the process of hyperparameter tuning by running a pre-configured number of training jobs (known as **trials**) in parallel.\n",
    "Each trial evaluates a different set of hyperparameter configurations.\n",
    "Within each **experiment** it automatically adjusts the hyperparameters to find their optimal values with regard to the objective function, which is typically the model's metric (e.g. accuracy, AUC, F1, precision).\n",
    "An experiment therefore consists of an objective, a search space for the hyperparameters, and a [search algorithm](https://github.com/kubeflow/katib#hyperparameter-tuning).\n",
    "At the end of the experiment, Katib outputs the optimized values, which are also known as **suggestions**.\n",
    "\n",
    "<div class=\"alert alert-block alert-info\">\n",
    "    <b>Three Data Sets</b><br>Whereas it is common to have training and test data sets in traditional (supervised) machine learning, in deep learning (esp. when combined with hyperparameter tuning), it is recommended to have a three-way split: training, validation (a.k.a. as development), and test. \n",
    "    The training data set is, as always, to learn parameters (weights and biases) from data. \n",
    "    The test data set is also known as the hold-out set and its sole purpose is to check the model's hypothesis of parameter values in terms of how well it generalizes to data it has never come across.\n",
    "    The point of the validation data set is to cross-validate the model and tweak the hyperparameters. \n",
    "    Since information from this data set is used to adjust the model, it is not an objective test of the model's generalizability. \n",
    "    It is not unlike a <a href=\\\"https://www.linkedin.com/posts/activity-6424581736302284800-Kdas\\\">teacher checking up on students</a>:\n",
    "    <ul>\n",
    "      <li>The training data set is the text book to learn the theory from</li>\n",
    "      <li>The validation data set comprises the exercises to practice the theory</li>\n",
    "      <li>The test data set is exam to assess the degree of learning vs lookup</li>\n",
    "    </ul>\n",
    "</div>\n",
    "\n",
    "### What You'll Learn\n",
    "This notebook shows how you can create and configure an `Experiment` for both `TensorFlow` and `PyTorch` training jobs.\n",
    "In terms of Kubernetes, such an experiment is a custom resource handled by the Katib operator.\n",
    "\n",
    "### What You'll Need\n",
    "A Docker image with either a [TensorFlow](../training/tensorflow/MNIST%20with%20TensorFlow.ipynb) or [PyTorch](../training/pytorch/MNIST%20with%20PyTorch.ipynb) model that accepts hyperparameters as arguments.\n",
    "Please click on the links to see such models.\n",
    "\n",
    "That's it, so let's get started!\n",
    "\n",
    "## How to Specify Hyperparameters in Your Models\n",
    "In order for Katib to be able to tweak hyperparameters it needs to know what these are called in the model.\n",
    "Beyond that, the model must specify these hyperparameters either as regular (command line) parameters or as environment variables.\n",
    "Since the model needs to be containerized, any command line parameters or environment variables must to be passed to the container that holds your model.\n",
    "By far the most common and also the recommended way is to use command line parameters that are captured with [`argparse`](https://docs.python.org/3/library/argparse.html) or similar; the trainer (function) then uses their values internally.\n",
    "\n",
    "## How to Expose Model Metrics as Objective Functions\n",
    "By default, Katib collects metrics from the standard output of a job container by using a sidecar container.\n",
    "In order to make the metrics available to Katib, they must be logged to [stdout](https://www.kubeflow.org/docs/components/hyperparameter-tuning/experiment/#metrics-collector) in the `key=value` format.\n",
    "The job output will be redirected to `/var/log/katib/metrics.log` file.\n",
    "This means that the objective function (for Katib) must match the metric's `key` in the models output.\n",
    "It's therefore possible to define custom model metrics for your use case.\n",
    "\n",
    "<div class=\"alert alert-block alert-info\">\n",
    "    <b>Sidecars</b><br>\n",
    "    In the sidecar (a.k.a. sidekick or decomposition) pattern, if you are not already familiar with it, a secondary (sidecar) container is attached to the primary workload inside a pod in Kubernetes. In many cases, pods run a single container, but peripheral services, such as networking services, monitoring, and logging, are required in all applications and services. With sidecars there is no need to re-implement basic but secondary tasks in each service or application. The sidecar has the same lifecycle as the primary application and it has access to the same resources. The sidecar is, however, isolated from the main container, which means it does not have to be implemented in the same technology. This means it can easily be reused across various workloads.<br><br>\n",
    "    Katib does not care whether you use TensorFlow, PyTorch, MXNet, or any other framework for that matter. All it needs to do its job is a (parameterized) trainer container and the logs to grab the model's metrics from.\n",
    "</div>\n",
    "\n",
    "## How to Create Experiments\n",
    "Before we proceed, let's set up a few basic definitions that we can re-use.\n",
    "Note that you typically use (YAML) resource definitions for Kubernetes from the command line, but we shall show you how to do everything from a notebook, so that you do not have to exit your favourite environment at all!\n",
    "Of course, if you are more familiar or comfortable with `kubectl` and the command line, feel free to use a local CLI or the embedded terminals from the Jupyter Lab launch screen."
   ]
  },
  {
   "cell_type": "code",
   "execution_count": 2,
   "metadata": {},
   "outputs": [],
   "source": [
    "TF_EXPERIMENT_FILE = \"katib-tfjob-experiment.yaml\"\n",
    "PYTORCH_EXPERIMENT_FILE = \"katib-pytorchjob-experiment.yaml\""
   ]
  },
  {
   "cell_type": "markdown",
   "metadata": {},
   "source": [
    "We also want to capture output from a cell with [`%%capture`](https://ipython.readthedocs.io/en/stable/interactive/magics.html#cellmagic-capture) that usually looks like `some-resource created`.\n",
    "To that end, let's define a helper function:"
   ]
  },
  {
   "cell_type": "code",
   "execution_count": 3,
   "metadata": {},
   "outputs": [],
   "source": [
    "import re\n",
    "\n",
    "from IPython.utils.capture import CapturedIO\n",
    "\n",
    "\n",
    "def get_resource(captured_io: CapturedIO) -> str:\n",
    "    \"\"\"\n",
    "    Gets a resource name from `kubectl apply -f <configuration.yaml>`.\n",
    "\n",
    "    :param str captured_io: Output captured by using `%%capture` cell magic\n",
    "    :return: Name of the Kubernetes resource\n",
    "    :rtype: str\n",
    "    :raises Exception: if the resource could not be created\n",
    "    \"\"\"\n",
    "    out = captured_io.stdout\n",
    "    matches = re.search(r\"^(.+)\\s+created\", out)\n",
    "    if matches is not None:\n",
    "        return matches.group(1)\n",
    "    else:\n",
    "        raise Exception(f\"Cannot get resource as its creation failed: {out}. It may already exist.\")"
   ]
  },
  {
   "cell_type": "markdown",
   "metadata": {},
   "source": [
    "### TensorFlow: a TFJob Experiment\n",
    "\n",
    "The `TFJob` definition for this example is based on the [MNIST with TensorFlow](../training/tensorflow/MNIST%20with%20TensorFlow.ipynb) notebook.\n",
    "To refresh our memory, the model accepts several arguments:\n",
    "- `--batch-size`\n",
    "- `--buffer-size`\n",
    "- `--epochs`\n",
    "- `--steps`\n",
    "- `--learning-rate`\n",
    "- `--momentum`\n",
    "\n",
    "For our experiment, we want to focus on the learning rate and momentum of the [SGD algorithm](https://www.tensorflow.org/api_docs/python/tf/keras/optimizers/SGD).\n",
    "You can add the other hyperparameters in a similar manner.\n",
    "Please note that [discrete values (e.g. epochs) and categorical values (e.g. optimization algorithms)](https://www.kubeflow.org/docs/reference/katib/v1alpha3/katib/#feasiblespace) are supported, too.\n",
    "\n",
    "The following YAML file describes an `Experiment` object:"
   ]
  },
  {
   "cell_type": "code",
   "execution_count": 4,
   "metadata": {},
   "outputs": [
    {
     "name": "stdout",
     "output_type": "stream",
     "text": [
      "Writing katib-tfjob-experiment.yaml\n"
     ]
    }
   ],
   "source": [
    "%%writefile $TF_EXPERIMENT_FILE\n",
    "apiVersion: \"kubeflow.org/v1alpha3\"\n",
    "kind: Experiment\n",
    "metadata:\n",
    "  name: katib-tfjob-experiment\n",
    "spec:\n",
    "  parallelTrialCount: 3\n",
    "  maxTrialCount: 12\n",
    "  maxFailedTrialCount: 3\n",
    "  objective:\n",
    "    type: maximize\n",
    "    goal: 0.99\n",
    "    objectiveMetricName: accuracy\n",
    "  algorithm:\n",
    "    algorithmName: random\n",
    "  parameters:\n",
    "    - name: --learning-rate\n",
    "      parameterType: double\n",
    "      feasibleSpace:\n",
    "        min: \"0.3\"\n",
    "        max: \"0.4\"\n",
    "    - name: --momentum\n",
    "      parameterType: double\n",
    "      feasibleSpace:\n",
    "        min: \"0.6\"\n",
    "        max: \"0.7\"\n",
    "  trialTemplate:\n",
    "    goTemplate:\n",
    "        rawTemplate: |-\n",
    "          apiVersion: \"kubeflow.org/v1\"\n",
    "          kind: TFJob\n",
    "          metadata:\n",
    "            name: {{.Trial}}\n",
    "            namespace: {{.NameSpace}}\n",
    "          spec:\n",
    "           tfReplicaSpecs:\n",
    "            Worker:\n",
    "              replicas: 2\n",
    "              restartPolicy: OnFailure\n",
    "              template:\n",
    "                metadata:\n",
    "                  annotations:\n",
    "                    sidecar.istio.io/inject: \"false\"\n",
    "                spec:\n",
    "                  containers:\n",
    "                    - name: tensorflow\n",
    "                      # modify this property if you would like to use a custom image\n",
    "                      image: mesosphere/kubeflow:mnist-tensorflow-2.2-1.0.1-0.5.0\n",
    "                      imagePullPolicy: Always\n",
    "                      command: [\"python\", \"-u\", \"/mnist.py\"]\n",
    "                      args:\n",
    "                        {{- with .HyperParameters}}\n",
    "                        {{- range .}}\n",
    "                        - \"{{.Name}}\"\n",
    "                        - \"{{.Value}}\"\n",
    "                        {{- end}}\n",
    "                        {{- end}}\n",
    "                      # Comment out these resources when using only CPUs\n",
    "                      resources:\n",
    "                        limits:\n",
    "                          nvidia.com/gpu: 1"
   ]
  },
  {
   "cell_type": "markdown",
   "metadata": {},
   "source": [
    "Please note that the Docker image that contains the model has to be set for the `trialTemplate` configuration.\n",
    "This experiment will create 12 trials with different sets of hyperparameter values passed to each training job.\n",
    "It uses a random search to maximize the accuracy on the test data set.\n",
    "\n",
    "A comment has been added where you can change the Docker image.\n",
    "The one listed should work, but you may want to try it with your own container registry.\n",
    "\n",
    "<div class=\"alert alert-block alert-warning\">\n",
    "As we have said before, performing hyperparameter tuning on data that is split two ways only is not ideal. For our demonstration purposes it suffices, as we do not check the accuracy of the tuned model on a separate hold-out data set. If you wanted to do that yourself, you could do it as follows:\n",
    "<ul>\n",
    "  <li>Split the data three ways</li>\n",
    "  <li>Evaluate the model on both the validation and test data sets</li>\n",
    "  <li>Add the model evaluation metric for the test data set as an entry in <code>additionalMetricNames</code>, which may contain multiple metrics of interest</li>\n",
    "  <li>Let Katib find the best hyperparameter values based on the validation data set (i.e. <code>objectiveMetricName</code>)</li>\n",
    "  <li>Extract the corresponding model evaluation metric for the test data set from the results</li>\n",
    "</ul>\n",
    "</div>\n",
    "\n",
    "The `Experiment` specification has the following sections to configure experiments:\n",
    "- `spec.parameters` contains the list of hyperparameters that are used to tune the model\n",
    "- `spec.objective` defines the metric to optimize\n",
    "- `spec.algorithm` defines which search algorithm to use for the tuning process\n",
    "\n",
    "There are many more configuration options, but they are too numerous to go through here.\n",
    "Please have a look at the [official documentation](https://www.kubeflow.org/docs/reference/katib/v1alpha3/katib/) for more details.\n",
    "\n",
    "### PyTorch: a PyTorchJob experiment\n",
    "\n",
    "We shall repeat the procedure for a `PyTorchJob`.\n",
    "This example is based on the [MNIST with PyTorch](../training/pytorch/MNIST%20with%20PyTorch.ipynb) notebook.\n",
    "It accepts the following parameters relevant to training the model:\n",
    "- `--batch-size`\n",
    "- `--epochs`\n",
    "- `--lr` (i.e. the learning rate)\n",
    "- `--gamma`\n",
    "\n",
    "For our experiment we wish to find the optimal learning rate in the range of [0.1, 0.7] with regard to the accuracy on the test data set.\n",
    "This is logged as `accuracy=<value>`, as can be seen in the original notebook for distributed training.\n",
    "We run up to 12 trials with three such trials in parallel.\n",
    "Again, we use a random search."
   ]
  },
  {
   "cell_type": "code",
   "execution_count": 5,
   "metadata": {},
   "outputs": [
    {
     "name": "stdout",
     "output_type": "stream",
     "text": [
      "Writing katib-pytorchjob-experiment.yaml\n"
     ]
    }
   ],
   "source": [
    "%%writefile $PYTORCH_EXPERIMENT_FILE\n",
    "apiVersion: \"kubeflow.org/v1alpha3\"\n",
    "kind: Experiment\n",
    "metadata:\n",
    "  name: katib-pytorchjob-experiment\n",
    "spec:\n",
    "  parallelTrialCount: 3\n",
    "  maxTrialCount: 12\n",
    "  maxFailedTrialCount: 3\n",
    "  objective:\n",
    "    type: maximize\n",
    "    goal: 0.99\n",
    "    objectiveMetricName: accuracy\n",
    "  algorithm:\n",
    "    algorithmName: random\n",
    "  parameters:\n",
    "    - name: --lr\n",
    "      parameterType: double\n",
    "      feasibleSpace:\n",
    "        min: \"0.1\"\n",
    "        max: \"0.7\"\n",
    "  trialTemplate:\n",
    "    goTemplate:\n",
    "        rawTemplate: |-\n",
    "          apiVersion: \"kubeflow.org/v1\"\n",
    "          kind: PyTorchJob\n",
    "          metadata:\n",
    "            name: {{.Trial}}\n",
    "            namespace: {{.NameSpace}}\n",
    "          spec:\n",
    "           pytorchReplicaSpecs:\n",
    "            Master:\n",
    "              replicas: 1\n",
    "              restartPolicy: OnFailure\n",
    "              template:\n",
    "                metadata:\n",
    "                  annotations:\n",
    "                    sidecar.istio.io/inject: \"false\"\n",
    "                spec:\n",
    "                  containers:\n",
    "                    - name: pytorch\n",
    "                      # modify this property if you would like to use a custom image\n",
    "                      image: mesosphere/kubeflow:mnist-pytorch-1.0.1-0.5.0\n",
    "                      imagePullPolicy: Always\n",
    "                      command: [\"python\", \"-u\", \"/mnist.py\"]\n",
    "                      args:\n",
    "                        {{- with .HyperParameters}}\n",
    "                        {{- range .}}\n",
    "                        - \"{{.Name}}\"\n",
    "                        - \"{{.Value}}\"\n",
    "                        {{- end}}\n",
    "                        {{- end}}\n",
    "                      # Comment out these resources when using only CPUs\n",
    "                      resources:\n",
    "                        limits:\n",
    "                          nvidia.com/gpu: 1\n",
    "            Worker:\n",
    "              replicas: 2\n",
    "              restartPolicy: OnFailure\n",
    "              template:\n",
    "                metadata:\n",
    "                  annotations:\n",
    "                    sidecar.istio.io/inject: \"false\"\n",
    "                spec:\n",
    "                  containers:\n",
    "                    - name: pytorch\n",
    "                      # modify this property if you would like to use a custom image\n",
    "                      image: mesosphere/kubeflow:mnist-pytorch-1.0.1-0.5.0\n",
    "                      imagePullPolicy: Always\n",
    "                      args:\n",
    "                        {{- with .HyperParameters}}\n",
    "                        {{- range .}}\n",
    "                        - \"{{.Name}}\"\n",
    "                        - \"{{.Value}}\"\n",
    "                        {{- end}}\n",
    "                        {{- end}}\n",
    "                      # Comment out these resources when using only CPUs\n",
    "                      resources:\n",
    "                        limits:\n",
    "                          nvidia.com/gpu: 1"
   ]
  },
  {
   "cell_type": "markdown",
   "metadata": {},
   "source": [
    "Please note the subtle differences in the `trialTemplate`: the `kind` is either [`TFJob`](https://www.kubeflow.org/docs/components/training/tftraining/) or [`PyTorchJob`](https://www.kubeflow.org/docs/components/training/pytorch/) and the Docker images are obviously different.\n",
    "\n",
    "## How to Run and Monitor Experiments\n",
    "Now we have specified our experiments, let's run them!\n",
    "You can either execute these commands on your local machine with `kubectl` or you can run them from the notebook.\n",
    "If you do run these locally, you cannot rely on cell magic, so you have to manually copy-paste the experiment name wherever you see `$EXPERIMENT`.\n",
    "If you intend to run the following command locally, you have to set the user namespace for all subsequent commands:\n",
    "\n",
    "```\n",
    "kubectl config set-context --current --namespace=<insert-namespace>\n",
    "```\n",
    "\n",
    "Please change the namespace to whatever has been set up by your administrator.\n",
    "\n",
    "To submit our experiment, we execute:"
   ]
  },
  {
   "cell_type": "code",
   "execution_count": 6,
   "metadata": {},
   "outputs": [],
   "source": [
    "%%capture kubectl_output --no-stderr\n",
    "! kubectl apply -f $PYTORCH_EXPERIMENT_FILE"
   ]
  },
  {
   "cell_type": "markdown",
   "metadata": {},
   "source": [
    "The cell magic grabs the output of the `kubectl` command and stores it in an object named `kubectl_output`.\n",
    "From there we can use the utility function we defined earlier:"
   ]
  },
  {
   "cell_type": "code",
   "execution_count": 7,
   "metadata": {},
   "outputs": [],
   "source": [
    "EXPERIMENT = get_resource(kubectl_output)"
   ]
  },
  {
   "cell_type": "markdown",
   "metadata": {},
   "source": [
    "To see the status, we can then run:"
   ]
  },
  {
   "cell_type": "code",
   "execution_count": 8,
   "metadata": {},
   "outputs": [],
   "source": [
    "! kubectl describe $EXPERIMENT"
   ]
  },
  {
   "cell_type": "markdown",
   "metadata": {},
   "source": [
    "To get the list of created trials, use the following command:"
   ]
  },
  {
   "cell_type": "code",
   "execution_count": 9,
   "metadata": {},
   "outputs": [
    {
     "name": "stdout",
     "output_type": "stream",
     "text": [
      "NAME                                   TYPE      STATUS   AGE\n",
      "katib-pytorchjob-experiment-62b9lr7k   Created   True     2s\n",
      "katib-pytorchjob-experiment-qcl4jkc6   Created   True     2s\n",
      "katib-pytorchjob-experiment-vnzgj7q6   Created   True     2s\n"
     ]
    }
   ],
   "source": [
    "! kubectl get trials.kubeflow.org -l experiment=katib-pytorchjob-experiment"
   ]
  },
  {
   "cell_type": "markdown",
   "metadata": {},
   "source": [
    "After the experiment is completed, use `describe` to get the best trial results:"
   ]
  },
  {
   "cell_type": "code",
   "execution_count": 10,
   "metadata": {},
   "outputs": [],
   "source": [
    "! kubectl describe $EXPERIMENT"
   ]
  },
  {
   "cell_type": "markdown",
   "metadata": {},
   "source": [
    "The relevant section of the output looks like this:\n",
    "    \n",
    "```yaml\n",
    "Name:         katib-pytorchjob-experiment\n",
    "...\n",
    "Status:\n",
    "  ...\n",
    "  Current Optimal Trial:\n",
    "    Best Trial Name:  katib-pytorchjob-experiment-jv4sc9q7\n",
    "    Observation:\n",
    "      Metrics:\n",
    "        Name:   accuracy\n",
    "        Value:  0.9902\n",
    "    Parameter Assignments:\n",
    "      Name:    --lr\n",
    "      Value:   0.5512569257804198\n",
    "  ...\n",
    "  Trials:            6\n",
    "  Trials Succeeded:  6\n",
    "...\n",
    "```"
   ]
  },
  {
   "cell_type": "markdown",
   "metadata": {},
   "source": [
    "## Katib UI\n",
    "\n",
    "So far, we have seen how to create and submit experiments via the command line or from within Jupyter notebooks.\n",
    "Katib provides a user interface, which allows you to create, configure, and monitor experiments in a browser.\n",
    "The Katib UI can be launched from Kubeflow's central dashboard.\n",
    "Just click on \"Katib\" in the navigation menu on the left of the dashboard.\n",
    "\n",
    "![Katib](./img/katib-1.png)\n",
    "\n",
    "To access the experiment monitor, go to Menu &rarr; HP &rarr; Monitor in the hamburger menu next to \"Katib\" (black navigation bar at the top).\n",
    "\n",
    "![Katib monitor](./img/katib-2.png)\n",
    "\n",
    "To see detailed information, such as trial results, metrics, and a plot, click on the experiment itself.\n",
    "\n",
    "![Katib plot](./img/katib-3.png)"
   ]
  },
  {
   "cell_type": "code",
   "execution_count": null,
   "metadata": {},
   "outputs": [],
   "source": []
  }
 ],
 "metadata": {
  "kernelspec": {
   "display_name": "Python 3",
   "language": "python",
   "name": "python3"
  },
  "language_info": {
   "codemirror_mode": {
    "name": "ipython",
    "version": 3
   },
   "file_extension": ".py",
   "mimetype": "text/x-python",
   "name": "python",
   "nbconvert_exporter": "python",
   "pygments_lexer": "ipython3",
   "version": "3.7.7"
  }
 },
 "nbformat": 4,
 "nbformat_minor": 4
}
