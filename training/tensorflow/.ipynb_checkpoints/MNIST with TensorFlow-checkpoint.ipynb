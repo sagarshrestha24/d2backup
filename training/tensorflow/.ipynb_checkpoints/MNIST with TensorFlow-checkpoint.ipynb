{
 "cells": [
  {
   "cell_type": "code",
   "execution_count": 1,
   "metadata": {},
   "outputs": [],
   "source": [
    "# To have each Python cell auto-formatted\n",
    "# See: https://black.readthedocs.io\n",
    "%load_ext lab_black"
   ]
  },
  {
   "cell_type": "markdown",
   "metadata": {},
   "source": [
    "<div class=\"alert alert-block alert-danger\">\n",
    "    This notebook is for TensorFlow 2 only.\n",
    "    TensorFlow 1 does not support data auto-sharding.\n",
    "</div>"
   ]
  },
  {
   "cell_type": "markdown",
   "metadata": {},
   "source": [
    "# Training MNIST with TensorFlow\n",
    "\n",
    "## Introduction\n",
    "Recognizing handwritten digits based on the [MNIST (Modified National Institute of Standards and Technology) data set](http://yann.lecun.com/exdb/mnist/) is the \"Hello, World\" example of machine learning.\n",
    "Each (anti-aliased) black-and-white image represents a digit from 0 to 9 and has been fit into a 28x28 pixel bounding box.\n",
    "The problem of recognizing digits from handwriting is, for instance, important to the postal service when automatically reading zip codes from envelopes.\n",
    "\n",
    "### What You'll Learn\n",
    "We'll show you how to use TensorFlow to build a model with a convolutional layer and a fully connected layer to perform the multi-class classification of images provided.\n",
    "\n",
    "The example in the notebook includes both training a model in the notebook and running a [distributed](https://www.tensorflow.org/guide/distributed_training) `TFJob` on the cluster, so you can easily scale up your own models.\n",
    "For the distributed training job you'll need to package the complete trainer code in a Docker image.\n",
    "We'll show you how to do that with Kubeflow Fairing, so that you do not have to leave your favourite notebook environment at all!\n",
    "We'll also include instructions for local development, in case you prefer that.\n",
    "\n",
    "<div class=\"alert alert-block alert-info\">\n",
    "<b>Kubernetes Nomenclature</b><br>\n",
    "    <code>TFJob</code> is a <a href=\"https://kubernetes.io/docs/concepts/extend-kubernetes/api-extension/custom-resources/\">custom resource (definition) (CRD)</a> provided by the <a href=\"https://www.kubeflow.org/docs/reference/tfjob/v1/tensorflow/\">TensorFlow operator</a>.\n",
    "    <a href=\"https://kubernetes.io/docs/concepts/extend-kubernetes/operator/\">Operators</a> extend Kubernetes by capturing domain-specific knowledge on how to deploy and run an application or service, how to deal with failures, and so on.\n",
    "    The lifecycle of a <code>TFJob</code> is managed by the TensorFlow operator controller.\n",
    "    A distributed TensorFlow job typically consists of the following processes:\n",
    "    <ul>\n",
    "        <li>The <b>chief</b> ('master') is responsible for orchestrating the training and performing supplementary tasks, such as initializing the graph, checkpointing, and, saving logs for TensorBoard, and saving the model. It also manages failures and restarts. If the chief itself fails, the training is restarted from the last available checkpoint.</li>\n",
    "        <li>The <b>workers</b>, as you might expect, do the actual work of training the model. In certain configurations, worker 0 may also act as the chief.</li>\n",
    "        <li><b>Parameter servers</b> (ps) provide a distributed data store for the model parameters.</li>\n",
    "        <li>An <b>Evaluator</b> is used to compute evaluation metrics.</li>\n",
    "    </ul>\n",
    "    The TensorFlow operator <a href=\"https://github.com/kubeflow/tf-operator/blob/master/tf_job_design_doc.md#controller\">controller</a> takes care of the <a href=\"https://www.tensorflow.org/guide/distributed_training#TF_CONFIG\"><code>TF_CONFIG</code></a> environment variable, which is required for distributed training.\n",
    "</div>\n",
    "\n",
    "### What You'll Need\n",
    "All you need is this notebook.\n",
    "If you prefer to create your Docker image locally (i.e. outside of the Kubernetes cluster), you must have a [Docker](https://www.docker.com/products/container-runtime) client on your machine and configured to work with your own container registry.\n",
    "For Kubernetes commands to be run outside of the cluster, [`kubectl`](https://kubernetes.io/docs/reference/kubectl/kubectl/) is required.\n",
    "\n",
    "## Prerequisites\n",
    "Before we proceed, let's check that we're using the right image, that is, [TensorFlow](https://www.tensorflow.org/api_docs/) is available:"
   ]
  },
  {
   "cell_type": "code",
   "execution_count": 2,
   "metadata": {},
   "outputs": [
    {
     "name": "stdout",
     "output_type": "stream",
     "text": [
      "tensorflow-datasets      3.1.0              \n",
      "tensorflow-estimator     2.2.0              \n",
      "tensorflow-gpu           2.2.0              \n",
      "tensorflow-metadata      0.22.1             \n"
     ]
    }
   ],
   "source": [
    "! pip list | grep tensorflow"
   ]
  },
  {
   "cell_type": "markdown",
   "metadata": {},
   "source": [
    "To package the trainer in a container image, we shall need a file (on our cluster) that contains the code as well as a file with the resource definitition of the job for the Kubernetes cluster:"
   ]
  },
  {
   "cell_type": "code",
   "execution_count": 3,
   "metadata": {},
   "outputs": [],
   "source": [
    "TRAINER_FILE = \"mnist.py\"\n",
    "KUBERNETES_FILE = \"tfjob-mnist.yaml\""
   ]
  },
  {
   "cell_type": "markdown",
   "metadata": {},
   "source": [
    "We also want to capture output from a cell with [`%%capture`](https://ipython.readthedocs.io/en/stable/interactive/magics.html#cellmagic-capture) that usually looks like `some-resource created`.\n",
    "To that end, let's define a helper function:"
   ]
  },
  {
   "cell_type": "code",
   "execution_count": 4,
   "metadata": {},
   "outputs": [],
   "source": [
    "import re\n",
    "\n",
    "from IPython.utils.capture import CapturedIO\n",
    "\n",
    "\n",
    "def get_resource(captured_io: CapturedIO) -> str:\n",
    "    \"\"\"\n",
    "    Gets a resource name from `kubectl apply -f <configuration.yaml>`.\n",
    "\n",
    "    :param str captured_io: Output captured by using `%%capture` cell magic\n",
    "    :return: Name of the Kubernetes resource\n",
    "    :rtype: str\n",
    "    :raises Exception: if the resource could not be created\n",
    "    \"\"\"\n",
    "    out = captured_io.stdout\n",
    "    matches = re.search(r\"^(.+)\\s+created\", out)\n",
    "    if matches is not None:\n",
    "        return matches.group(1)\n",
    "    else:\n",
    "        raise Exception(f\"Cannot get resource as its creation failed: {out}. It may already exist.\")"
   ]
  },
  {
   "cell_type": "markdown",
   "metadata": {},
   "source": [
    "## How to Load and Inspect the Data\n",
    "We grab the MNIST data set with the aid of `tensorflow_datasets`."
   ]
  },
  {
   "cell_type": "code",
   "execution_count": 7,
   "metadata": {},
   "outputs": [
    {
     "data": {
      "text/plain": [
       "tfds.core.DatasetInfo(\n",
       "    name='mnist',\n",
       "    version=3.0.0,\n",
       "    description='The MNIST database of handwritten digits.',\n",
       "    homepage='http://yann.lecun.com/exdb/mnist/',\n",
       "    features=FeaturesDict({\n",
       "        'image': Image(shape=(28, 28, 1), dtype=tf.uint8),\n",
       "        'label': ClassLabel(shape=(), dtype=tf.int64, num_classes=10),\n",
       "    }),\n",
       "    total_num_examples=70000,\n",
       "    splits={\n",
       "        'test': 10000,\n",
       "        'train': 60000,\n",
       "    },\n",
       "    supervised_keys=('image', 'label'),\n",
       "    citation=\"\"\"@article{lecun2010mnist,\n",
       "      title={MNIST handwritten digit database},\n",
       "      author={LeCun, Yann and Cortes, Corinna and Burges, CJ},\n",
       "      journal={ATT Labs [Online]. Available: http://yann. lecun. com/exdb/mnist},\n",
       "      volume={2},\n",
       "      year={2010}\n",
       "    }\"\"\",\n",
       "    redistribution_info=,\n",
       ")"
      ]
     },
     "execution_count": 7,
     "metadata": {},
     "output_type": "execute_result"
    }
   ],
   "source": [
    "import tensorflow as tf\n",
    "import tensorflow_datasets as tfds\n",
    "\n",
    "from matplotlib import pyplot as plt\n",
    "\n",
    "mnist, info = tfds.load(name=\"mnist\", split=\"train\", data_dir=\"datasets\", download=False, with_info=True)\n",
    "tfds.show_examples(info, mnist)"
   ]
  },
  {
   "cell_type": "markdown",
   "metadata": {},
   "source": [
    "We can easily read off the shape of the input tensors that shows the images are all 28x28 pixels, but we do not yet know whether their greyscale values have been scaled to the [0, 1] range or not:"
   ]
  },
  {
   "cell_type": "code",
   "execution_count": 8,
   "metadata": {},
   "outputs": [
    {
     "name": "stdout",
     "output_type": "stream",
     "text": [
      "tf.Tensor(0, shape=(), dtype=uint8) tf.Tensor(255, shape=(), dtype=uint8)\n"
     ]
    }
   ],
   "source": [
    "for example in mnist.take(1):\n",
    "    squeezed = tf.squeeze(example[\"image\"])\n",
    "    print(tf.math.reduce_min(squeezed), tf.math.reduce_max(squeezed))"
   ]
  },
  {
   "cell_type": "markdown",
   "metadata": {},
   "source": [
    "No, they have not.\n",
    "This means we have to do this in the training and before serving!"
   ]
  },
  {
   "cell_type": "code",
   "execution_count": 9,
   "metadata": {},
   "outputs": [],
   "source": [
    "# Clear variables as we have no need for these any longer\n",
    "del mnist, squeezed"
   ]
  },
  {
   "cell_type": "markdown",
   "metadata": {},
   "source": [
    "<div class=\"alert alert-block alert-info\">\n",
    "    Before we proceed, we separate the <code>epoch</code> hyperparameter from the main code.\n",
    "    The reason we do that is to ensure we can run the notebook in so-called headless mode with <a href=\"https://papermill.readthedocs.io/en/latest/\">Papermill</a> for custom parameters.\n",
    "    This allows us to test the notebooks end-to-end, automatically.\n",
    "    If you check the <a href=\"https://jupyterlab.readthedocs.io/en/stable/user/notebook.html#notebook\">cell tag</a> of the next cell, you can see it is tagged as <code>parameters</code>.\n",
    "    Feel free to ignore it!\n",
    "</div>"
   ]
  },
  {
   "cell_type": "code",
   "execution_count": null,
   "metadata": {
    "tags": [
     "parameters"
    ]
   },
   "outputs": [],
   "source": [
    "epochs = 10"
   ]
  },
  {
   "cell_type": "markdown",
   "metadata": {},
   "source": [
    "## How to Train the Model in the Notebook\n",
    "Since we ultimately want to train the model in a distributed fashion (potentially on GPUs), we put all the code in a single cell.\n",
    "That way we can save the file and include it in a container image:"
   ]
  },
  {
   "cell_type": "code",
   "execution_count": 10,
   "metadata": {
    "tags": [
     "trainer_code"
    ]
   },
   "outputs": [
    {
     "name": "stdout",
     "output_type": "stream",
     "text": [
      "Writing mnist.py\n"
     ]
    }
   ],
   "source": [
    "%%writefile $TRAINER_FILE\n",
    "import argparse\n",
    "import logging\n",
    "\n",
    "import tensorflow as tf\n",
    "import tensorflow_datasets as tfds\n",
    "\n",
    "logging.getLogger().setLevel(logging.INFO)\n",
    "\n",
    "\n",
    "def get_datasets(buffer_size):\n",
    "    datasets, ds_info = tfds.load(name=\"mnist\", data_dir=\"datasets\", download=False, with_info=True, as_supervised=True)\n",
    "    mnist_train, mnist_test = datasets[\"train\"], datasets[\"test\"]\n",
    "\n",
    "    def scale(image, label):\n",
    "        image = tf.cast(image, tf.float32) / 255\n",
    "        return image, label\n",
    "\n",
    "    train_dataset = mnist_train.map(scale).cache().shuffle(buffer_size).repeat()\n",
    "    test_dataset = mnist_test.map(scale)\n",
    "\n",
    "    return train_dataset, test_dataset\n",
    "\n",
    "\n",
    "def compile_model(args):\n",
    "    model = tf.keras.Sequential(\n",
    "        [\n",
    "            tf.keras.layers.Conv2D(32, 3, activation=\"relu\", input_shape=(28, 28, 1)),\n",
    "            tf.keras.layers.MaxPooling2D(),\n",
    "            tf.keras.layers.Flatten(),\n",
    "            tf.keras.layers.Dense(64, activation=\"relu\"),\n",
    "            tf.keras.layers.Dense(10),\n",
    "        ]\n",
    "    )\n",
    "    model.compile(\n",
    "        loss=tf.keras.losses.SparseCategoricalCrossentropy(from_logits=True),\n",
    "        optimizer=tf.keras.optimizers.SGD(\n",
    "            learning_rate=args.learning_rate, momentum=args.momentum\n",
    "        ),\n",
    "        metrics=[\"accuracy\"],\n",
    "    )\n",
    "    return model\n",
    "\n",
    "\n",
    "def main():\n",
    "    parser = argparse.ArgumentParser(description=\"TensorFlow MNIST Training Job\")\n",
    "    parser.add_argument(\n",
    "        \"--batch-size\",\n",
    "        type=int,\n",
    "        default=64,\n",
    "        metavar=\"N\",\n",
    "        help=\"Batch size for training (default: 64)\",\n",
    "    )\n",
    "    parser.add_argument(\n",
    "        \"--buffer-size\",\n",
    "        type=int,\n",
    "        default=10000,\n",
    "        metavar=\"N\",\n",
    "        help=\"Number of training examples to buffer before shuffling\" \"default: 10000)\",\n",
    "    )\n",
    "    parser.add_argument(\n",
    "        \"--epochs\",\n",
    "        type=int,\n",
    "        default=5,\n",
    "        metavar=\"N\",\n",
    "        help=\"Number of epochs to train (default: 5)\",\n",
    "    )\n",
    "    parser.add_argument(\n",
    "        \"--steps\",\n",
    "        type=int,\n",
    "        default=10,\n",
    "        metavar=\"N\",\n",
    "        help=\"Number of batches to train the model on in each epoch (default: 10)\",\n",
    "    )\n",
    "    parser.add_argument(\n",
    "        \"--learning-rate\",\n",
    "        type=float,\n",
    "        default=0.5,\n",
    "        metavar=\"N\",\n",
    "        help=\"Learning rate (default: 0.5)\",\n",
    "    )\n",
    "    parser.add_argument(\n",
    "        \"--momentum\",\n",
    "        type=float,\n",
    "        default=0.1,\n",
    "        metavar=\"N\",\n",
    "        help=\"Accelerates SGD in the relevant direction and dampens oscillations (default: 0.1)\",\n",
    "    )\n",
    "\n",
    "    args, _ = parser.parse_known_args()\n",
    "\n",
    "    strategy = tf.distribute.experimental.MultiWorkerMirroredStrategy()\n",
    "    logging.debug(f\"num_replicas_in_sync: {strategy.num_replicas_in_sync}\")\n",
    "    global_batch_size = args.batch_size * strategy.num_replicas_in_sync\n",
    "\n",
    "    # Datasets need to be created after instantiation of `MultiWorkerMirroredStrategy`\n",
    "    train_dataset, test_dataset = get_datasets(buffer_size=args.buffer_size)\n",
    "    train_dataset = train_dataset.batch(batch_size=global_batch_size)\n",
    "    test_dataset = test_dataset.batch(batch_size=global_batch_size)\n",
    "\n",
    "    # See: https://www.tensorflow.org/api_docs/python/tf/data/experimental/DistributeOptions\n",
    "    dataset_options = tf.data.Options()\n",
    "    dataset_options.experimental_distribute.auto_shard_policy = (\n",
    "        tf.data.experimental.AutoShardPolicy.DATA\n",
    "    )\n",
    "    train_datasets_sharded = train_dataset.with_options(dataset_options)\n",
    "    test_dataset_sharded = test_dataset.with_options(dataset_options)\n",
    "\n",
    "    # Model compilation must be within `strategy.scope()`\n",
    "    # See: https://www.tensorflow.org/tutorials/distribute/multi_worker_with_keras\n",
    "    with strategy.scope():\n",
    "        model = compile_model(args=args)\n",
    "\n",
    "    # We cannot set `steps_per_epoch = None` with MirroredStrategy\n",
    "    # See: https://github.com/tensorflow/tensorflow/issues/25254\n",
    "    model.fit(train_datasets_sharded, epochs=args.epochs, steps_per_epoch=args.steps)\n",
    "    eval_loss, eval_acc = model.evaluate(test_dataset_sharded, verbose=0, steps=args.steps)\n",
    "\n",
    "    # Log metrics for Katib\n",
    "    logging.info(\"loss={:.4f}\".format(eval_loss))\n",
    "    logging.info(\"accuracy={:.4f}\".format(eval_acc))\n",
    "\n",
    "\n",
    "if __name__ == \"__main__\":\n",
    "    main()"
   ]
  },
  {
   "cell_type": "markdown",
   "metadata": {},
   "source": [
    "That saves the file as defined by `TRAINER_FILE` but it does not run it.\n",
    "\n",
    "The log entries for 'Katib' are to re-use the same file for [hyperparameter tuning](../../katib/Hyperparameter%20Tuning.ipynb), which is done in a separate notebook.\n",
    "All you need to know for that is that Katib looks for `key=value` entries in the logs.\n",
    "\n",
    "<div class=\"alert alert-block alert-info\">\n",
    "<b>A Note on Activation Functions</b><br>\n",
    "    A common choice for <a href=\"https://arxiv.org/abs/1606.02228\">activation functions</a> is a ReLU (Rectified Linear Unit).\n",
    "    It is linear for non-negative values and zero for negative ones.\n",
    "    The <a href=\"https://machinelearningmastery.com/rectified-linear-activation-function-for-deep-learning-neural-networks/\">main benefits of ReLU</a> as opposed to sigmoidal functions (e.g. logistic or `tanh`) are:\n",
    "    <ul>\n",
    "        <li>ReLU and its gradient are very cheap to compute;</li>\n",
    "        <li>Gradients are less likely to vanish, because for (non-)negative values its gradient is constant and therefore does not saturate, which for deep neural networks can <a href=\"https://dl.acm.org/doi/10.1145/3065386\">accelerate convergence;</a></li>\n",
    "        <li>ReLU has a regularizing effect, because it promotes <a href=\"https://www.researchgate.net/publication/215616967_Deep_Sparse_Rectifier_Neural_Networks\">sparse representations</a> (i.e. some nodes' weights are zero);</li> \n",
    "        <li>Empirically it has been found to work well.</li>\n",
    "    </ul>\n",
    "    ReLU activation functions can cause neurons to 'die' because a large, negative (learned) bias value causes all inputs to be negative, which in turn leads to a zero output.\n",
    "    The neuron has thus become incapable of discriminating different input values.\n",
    "    So-called leaky ReLU activations functions address that issue; these functions are linear but non-zero for negative values, so that their gradients are small but non-zero.\n",
    "    <a href=\"https://arxiv.org/abs/1511.07289\">ELUs</a>, or exponential linear units, are another solution to the problem of dying neurons.\n",
    "</div>\n",
    "\n",
    "<div class=\"alert alert-block alert-info\">\n",
    "    <b>A Note on CNNs</b><br>\n",
    "    While it is not our intention to cover the basics of <a href=\"https://www.deeplearningbook.org/contents/convnets.html\">convolutional neural networks</a> (CNNs), there are a few matters worth mentioning.\n",
    "    Convolutional layers are spatial feature extractors for images.\n",
    "    A series of convolutional kernels (of the same dimensions) is applied to the image to obtain different versions of the same base image (i.e. filters).\n",
    "    These filters extract patterns hierarchically.\n",
    "    In the first layer, filters typically capture dots, edges, corners, and so on.\n",
    "    With each additional layer, these patterns become more complex and turn from basic geometric shapes into constituents of objects and entire objects.\n",
    "    That is why often the number of filters increases with each additional convolutional layer: to extract more complex patterns.<br><br>\n",
    "    Convolutional layers are often followed by a pooling layer to down-sample the input.\n",
    "    This aids in lowering the computational burden as we increase the number of filters.\n",
    "    A max pooling layer simply picks the largest value of pixels in a small (rectangular) neighbourhood of a single channel (e.g. RGB). \n",
    "    This has the effect of making features <em>locally</em> translation-invariant, which is often desired: whether a feature of interest is on the left or right edge of a pooling window, which is also referred to as a kernel, is largely irrelevant to the problem of image classification.\n",
    "    Note that this may not always be a desired characteristic and depends on the size of the pooling kernel.\n",
    "    For instance, the precice location of tissue damage in living organisms or defects on manufactured products may be very significant indeed.\n",
    "    Pooling kernels are generally chosen to be relatively small compared to the dimensions of the input, which means that local translation invariance is often desired. <br><br>\n",
    "    Another common component of CNNs is a dropout layer.\n",
    "    <a href=\"http://jmlr.org/papers/v15/srivastava14a.html\">Dropout</a> provides a mechanism for regularization that has proven successful in many applications.\n",
    "    It is suprisingly simple: some nodes' weights (and biases) in a specific layer are set to zero <em>at random</em>, that is, arbitrary nodes are removed from the network during the training step.\n",
    "    This causes the network to not rely on any single node (a.k.a. neuron) for a feature, as each node can be dropped at random.\n",
    "    The network therefore has to learn redundant representations of features.\n",
    "    This is important because of what is referred to as <em>internal covariate shift</em> (often mentioned in connection with <a href=\"http://proceedings.mlr.press/v37/ioffe15.html\">batch normalization</a>): the change of distributions of internal nodes' weights due to all other layers, which can cause nodes to stop learning (i.e. updating their weights).\n",
    "    Thanks to dropout, layers become more robust to changes, although it also means it limits what can be learnt (as always with regularization).\n",
    "    Still, dropout is the neural network's equivalent of the saying you should never put all your eggs in one basket.\n",
    "    Layers with a high risk of overfitting (e.g. layers with many units and lots of inputs) typically have a higher dropout rate.\n",
    "    <br><br>\n",
    "    A nice visual explanation of convolutional layers is available <a href=\"https://cezannec.github.io/Convolutional_Neural_Networks/\">here</a>.\n",
    "    If you're curious what a CNN \"sees\" while training, you can have a look <a href=\"https://poloclub.github.io/cnn-explainer/\">here</a>.\n",
    "</div>\n",
    "\n",
    "Let's see if our code is correct by running it from within our notebook:"
   ]
  },
  {
   "cell_type": "code",
   "execution_count": 11,
   "metadata": {},
   "outputs": [
    {
     "name": "stdout",
     "output_type": "stream",
     "text": [
      "Train for 10 steps\n",
      "Epoch 1/5\n",
      "10/10 [==============================] - 5s 450ms/step - loss: 2.1215 - accuracy: 0.2875\n",
      "Epoch 2/5\n",
      "10/10 [==============================] - 0s 8ms/step - loss: 1.8495 - accuracy: 0.4172\n",
      "Epoch 3/5\n",
      "10/10 [==============================] - 0s 7ms/step - loss: 1.3506 - accuracy: 0.5875\n",
      "Epoch 4/5\n",
      "10/10 [==============================] - 0s 7ms/step - loss: 0.8821 - accuracy: 0.6969\n",
      "Epoch 5/5\n",
      "10/10 [==============================] - 0s 7ms/step - loss: 0.4770 - accuracy: 0.8422\n"
     ]
    },
    {
     "name": "stderr",
     "output_type": "stream",
     "text": [
      "INFO:root:loss=0.4222\n",
      "INFO:root:accuracy=0.8769\n"
     ]
    }
   ],
   "source": [
    "%run $TRAINER_FILE --epochs $epochs"
   ]
  },
  {
   "cell_type": "markdown",
   "metadata": {
    "tags": [
     "trainer_dockerfile"
    ]
   },
   "source": [
    "This trains the model in the notebook, but does not distribute it across nodes (a.k.a. pods) in our cluster.\n",
    "To that end, we have to first create a Docker image with the code, push it to a registry (e.g. [Docker Hub](https://hub.docker.com/), [Azure Container Registry](https://azure.microsoft.com/en-us/services/container-registry/), [ECR](https://aws.amazon.com/ecr/), [GCR](https://cloud.google.com/container-registry/), or similar), and then define the Kubernetes resource that uses the image.\n",
    "\n",
    "## How to Create a Docker Image with Kubeflow Fairing\n",
    "Kubeflow Fairing is a Python SDK that allows you to build, push, and optionally run containerized ML models without leaving Jupyter!\n",
    "To build and push Docker images from within a notebook, please check out the [Kubeflow Fairing notebook](../../fairing/Kubeflow%20Fairing.ipynb).\n",
    "All you need is the `TRAINER_FILE` and access to a container registry.\n",
    "\n",
    "## How to Create a Docker Image Manually\n",
    "If you are comfortable with Docker (or prefer to use it as a part of your CI/CD setup), you can create a Dockerfile as follows.\n",
    "You do have to download the `TRAINER_FILE` contents to your local machine.\n",
    "The Kubernetes cluster does not have a Docker daemon available to build your image, so you must do it locally.\n",
    "It uses [containerd](https://containerd.io/) to run workloads (only) instead.\n",
    "\n",
    "The Dockerfile looks as follows:\n",
    "\n",
    "```\n",
    "FROM mesosphere/kubeflow:1.0.1-0.5.0-tensorflow-2.2.0-gpu\n",
    "ADD mnist.py /\n",
    "ADD datasets /datasets\n",
    "\n",
    "ENTRYPOINT [\"python\", \"-u\", \"/mnist.py\"]\n",
    "```\n",
    "\n",
    "If GPU support is not needed, you can leave off the `-gpu` suffix from the image.\n",
    "`mnist.py` is the trainer code you have to download to your local machine.\n",
    "\n",
    "Then it's easy to push images to your container registry:\n",
    "\n",
    "```bash\n",
    "docker build -t <docker_image_name_with_tag> .\n",
    "docker push <docker_image_name_with_tag>\n",
    "```\n",
    "\n",
    "The image is available as `mesosphere/kubeflow:mnist-tensorflow-2.2-1.0.1-0.5.0` in case you want to skip it for now.\n",
    "\n",
    "## How to Create a Distributed `TFJob`\n",
    "For large training jobs, we wish to run our trainer in a distributed mode.\n",
    "Once the notebook server cluster can access the Docker image from the registry, we can launch a distributed PyTorch job.\n",
    "\n",
    "The specification for a distributed `TFJob` is defined using YAML:"
   ]
  },
  {
   "cell_type": "code",
   "execution_count": 12,
   "metadata": {},
   "outputs": [
    {
     "name": "stdout",
     "output_type": "stream",
     "text": [
      "Writing tfjob-mnist.yaml\n"
     ]
    }
   ],
   "source": [
    "%%writefile $KUBERNETES_FILE\n",
    "apiVersion: \"kubeflow.org/v1\"\n",
    "kind: \"TFJob\"\n",
    "metadata:\n",
    "  name: \"tfjob-mnist\"\n",
    "spec:\n",
    "  tfReplicaSpecs:\n",
    "    Worker:\n",
    "      replicas: 2\n",
    "      restartPolicy: Never\n",
    "      template:\n",
    "        metadata:\n",
    "          annotations:\n",
    "            sidecar.istio.io/inject: \"false\"\n",
    "        spec:\n",
    "          containers:\n",
    "            - name: tensorflow\n",
    "              # modify this property if you would like to use a custom image\n",
    "              image: mesosphere/kubeflow:mnist-tensorflow-2.2-1.0.1-0.5.0\n",
    "              args:\n",
    "                - --epochs\n",
    "                - \"15\"\n",
    "                - --steps\n",
    "                - \"250\"\n",
    "              # Comment out these resources when using only CPUs\n",
    "              resources:\n",
    "                limits:\n",
    "                  nvidia.com/gpu: 1"
   ]
  },
  {
   "cell_type": "markdown",
   "metadata": {},
   "source": [
    "This `spec.tfReplicaSpecs.Worker.replicas` configuration defines two worker pods (`tfjob-mnist-worker-0` and `tfjob-mnist-worker-1`).\n",
    "\n",
    "Custom training arguments can be passed to the container by means of the `spec.containers.args`.\n",
    "What is supported is visible in `main()` of `mnist.py`.\n",
    "\n",
    "The job can run in parallel on CPUs or GPUs, provided these are available in your cluster.\n",
    "To switch to CPUs or define resource limites, please adjust `spec.containers.resources` as required.    \n",
    "It is best to change the image name listed under the comment of the specification to use an equivalent image in your own container registry, to ensure everythng works as expected.\n",
    "\n",
    "You can either execute the following commands on your local machine with `kubectl` or directly from the notebook.\n",
    "If you do run these locally, you cannot rely on cell magic, so you have to manually copy-paste the variables' values wherever you see `$SOME_VARIABLE`.\n",
    "If you execute the following commands on your own machine (and not inside the notebook), you obviously do not need the bang `!` either.\n",
    "In that case, you have to set the user namespace for all subsequent commands:\n",
    "\n",
    "```\n",
    "kubectl config set-context --current --namespace=<insert-namespace>\n",
    "```\n",
    "\n",
    "Please change the namespace to whatever has been set up by your administrator.\n",
    "\n",
    "Let's deploy the distributed training job:"
   ]
  },
  {
   "cell_type": "code",
   "execution_count": 13,
   "metadata": {},
   "outputs": [],
   "source": [
    "%%capture tf_output --no-stderr\n",
    "! kubectl create -f $KUBERNETES_FILE"
   ]
  },
  {
   "cell_type": "code",
   "execution_count": 14,
   "metadata": {},
   "outputs": [],
   "source": [
    "TF_JOB = get_resource(tf_output)"
   ]
  },
  {
   "cell_type": "markdown",
   "metadata": {},
   "source": [
    "To see the job status, use the following command:"
   ]
  },
  {
   "cell_type": "code",
   "execution_count": 15,
   "metadata": {},
   "outputs": [],
   "source": [
    "! kubectl describe $TF_JOB"
   ]
  },
  {
   "cell_type": "markdown",
   "metadata": {},
   "source": [
    "You should now be able to see the created pods matching the specified number of workers."
   ]
  },
  {
   "cell_type": "code",
   "execution_count": 16,
   "metadata": {},
   "outputs": [
    {
     "name": "stdout",
     "output_type": "stream",
     "text": [
      "NAME                    READY   STATUS              RESTARTS   AGE\n",
      "tfjob-mnist-worker-0   0/1     ContainerCreating   0          2s\n",
      "tfjob-mnist-worker-1   0/1     ContainerCreating   0          2s\n"
     ]
    }
   ],
   "source": [
    "! kubectl get pods -l job-name=tfjob-mnist"
   ]
  },
  {
   "cell_type": "markdown",
   "metadata": {},
   "source": [
    "In case of issues, it may be helpful to see the last ten events within the cluster:\n",
    "\n",
    "```bash\n",
    "! kubectl get events --sort-by='.lastTimestamp' | tail\n",
    "```"
   ]
  },
  {
   "cell_type": "markdown",
   "metadata": {},
   "source": [
    "To stream logs from the worker-0 pod to check the training progress, run the following command:"
   ]
  },
  {
   "cell_type": "code",
   "execution_count": 17,
   "metadata": {},
   "outputs": [
    {
     "name": "stdout",
     "output_type": "stream",
     "text": [
      "Train for 250 steps\n",
      "Epoch 1/15\n",
      "250/250 [==============================] - 12s 47ms/step - loss: 0.5652 - accuracy: 0.8220\n",
      "Epoch 2/15\n",
      "250/250 [==============================] - 5s 19ms/step - loss: 0.1362 - accuracy: 0.9581\n",
      "Epoch 3/15\n",
      "250/250 [==============================] - 3s 13ms/step - loss: 0.0925 - accuracy: 0.9711\n",
      "Epoch 4/15\n",
      "250/250 [==============================] - 4s 14ms/step - loss: 0.0808 - accuracy: 0.9749\n",
      "Epoch 5/15\n",
      "250/250 [==============================] - 3s 13ms/step - loss: 0.0599 - accuracy: 0.9817\n",
      "Epoch 6/15\n",
      "250/250 [==============================] - 3s 13ms/step - loss: 0.0518 - accuracy: 0.9826\n",
      "Epoch 7/15\n",
      "250/250 [==============================] - 4s 14ms/step - loss: 0.0442 - accuracy: 0.9859\n",
      "Epoch 8/15\n",
      "250/250 [==============================] - 3s 13ms/step - loss: 0.0385 - accuracy: 0.9877\n",
      "Epoch 9/15\n",
      "250/250 [==============================] - 3s 13ms/step - loss: 0.0330 - accuracy: 0.9899\n",
      "Epoch 10/15\n",
      "250/250 [==============================] - 3s 14ms/step - loss: 0.0274 - accuracy: 0.9914\n",
      "Epoch 11/15\n",
      "250/250 [==============================] - 3s 13ms/step - loss: 0.0278 - accuracy: 0.9908\n",
      "Epoch 12/15\n",
      "250/250 [==============================] - 3s 13ms/step - loss: 0.0239 - accuracy: 0.9931\n",
      "Epoch 13/15\n",
      "250/250 [==============================] - 4s 14ms/step - loss: 0.0216 - accuracy: 0.9933\n",
      "Epoch 14/15\n",
      "250/250 [==============================] - 3s 13ms/step - loss: 0.0204 - accuracy: 0.9938\n",
      "Epoch 15/15\n",
      "250/250 [==============================] - 3s 13ms/step - loss: 0.0185 - accuracy: 0.9945\n",
      "INFO:root:loss=0.0521\n",
      "INFO:root:accuracy=0.9838\n"
     ]
    }
   ],
   "source": [
    "! kubectl logs -f tfjob-mnist-worker-0"
   ]
  },
  {
   "cell_type": "markdown",
   "metadata": {},
   "source": [
    "To delete the job, run the following command:"
   ]
  },
  {
   "cell_type": "code",
   "execution_count": 18,
   "metadata": {},
   "outputs": [
    {
     "name": "stdout",
     "output_type": "stream",
     "text": [
      "tfjob.kubeflow.org \"tfjob-mnist\" deleted\n"
     ]
    }
   ],
   "source": [
    "! kubectl delete $TF_JOB"
   ]
  }
 ],
 "metadata": {
  "kernelspec": {
   "display_name": "Python 3",
   "language": "python",
   "name": "python3"
  },
  "language_info": {
   "codemirror_mode": {
    "name": "ipython",
    "version": 3
   },
   "file_extension": ".py",
   "mimetype": "text/x-python",
   "name": "python",
   "nbconvert_exporter": "python",
   "pygments_lexer": "ipython3",
   "version": "3.7.7"
  }
 },
 "nbformat": 4,
 "nbformat_minor": 4
}
